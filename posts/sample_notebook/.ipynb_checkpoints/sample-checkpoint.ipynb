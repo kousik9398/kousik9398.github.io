{
 "cells": [
  {
   "cell_type": "raw",
   "id": "786262ba-efa2-43e1-89e8-1a9f8c3e425e",
   "metadata": {
    "tags": []
   },
   "source": [
    "---\n",
    "title: \"This is generated from jupyter notebook\"\n",
    "author: \"Kousik Sasmal\"\n",
    "date: \"2023-10-18\"\n",
    "categories: [news, code, analysis]\n",
    "image: \"image.jpg\"\n",
    "---\n"
   ]
  },
  {
   "cell_type": "code",
   "execution_count": null,
   "id": "91b29fd8-b39f-4425-b093-e3e052454c5b",
   "metadata": {},
   "outputs": [],
   "source": []
  },
  {
   "cell_type": "code",
   "execution_count": null,
   "id": "48027831-4cb4-465a-9be0-c56d6bf2e526",
   "metadata": {},
   "outputs": [],
   "source": []
  },
  {
   "cell_type": "code",
   "execution_count": null,
   "id": "998e4054-64c3-4976-9b70-0902ca3dd464",
   "metadata": {},
   "outputs": [],
   "source": []
  },
  {
   "cell_type": "code",
   "execution_count": null,
   "id": "d5b2f281-ce9e-4b86-9f53-e921559fafe3",
   "metadata": {},
   "outputs": [],
   "source": []
  }
 ],
 "metadata": {
  "kernelspec": {
   "display_name": "Python 3 (ipykernel)",
   "language": "python",
   "name": "python3"
  },
  "language_info": {
   "codemirror_mode": {
    "name": "ipython",
    "version": 3
   },
   "file_extension": ".py",
   "mimetype": "text/x-python",
   "name": "python",
   "nbconvert_exporter": "python",
   "pygments_lexer": "ipython3",
   "version": "3.11.5"
  },
  "widgets": {
   "application/vnd.jupyter.widget-state+json": {
    "state": {},
    "version_major": 2,
    "version_minor": 0
   }
  }
 },
 "nbformat": 4,
 "nbformat_minor": 5
}
